{
 "cells": [
  {
   "cell_type": "code",
   "execution_count": null,
   "id": "0d10d8fe-bfb9-4ca4-acf4-a7bc4fdfd54b",
   "metadata": {
    "tags": []
   },
   "outputs": [],
   "source": [
    "########### Part A is this part until you see another notation like this denoting part B, then C, and so forth\n",
    "# import keras library\n",
    "import keras"
   ]
  },
  {
   "cell_type": "code",
   "execution_count": null,
   "id": "bedc7fb5-38c2-47a8-932d-0464ad72ce0b",
   "metadata": {
    "tags": []
   },
   "outputs": [],
   "source": [
    "# import for dealing with data manipulation\n",
    "import pandas as pd\n",
    "import numpy as np"
   ]
  },
  {
   "cell_type": "code",
   "execution_count": null,
   "id": "f5732354-9898-44f0-9470-5b8f2625ffe6",
   "metadata": {},
   "outputs": [],
   "source": [
    "from keras.models import Sequential\n",
    "from keras.layers import Dense\n",
    "from sklearn.model_selection import train_test_split\n",
    "from sklearn.metrics import mean_squared_error\n",
    "from sklearn import preprocessing"
   ]
  },
  {
   "cell_type": "code",
   "execution_count": null,
   "id": "78b1dbfb-2872-4d84-8aeb-16091e6bbda7",
   "metadata": {
    "tags": []
   },
   "outputs": [],
   "source": [
    "# read in the concrete data\n",
    "data = pd.read_csv('https://cocl.us/concrete_data')\n",
    "data.head()"
   ]
  },
  {
   "cell_type": "code",
   "execution_count": null,
   "id": "f8bda28f-1f40-4923-b8e6-33df19f0437e",
   "metadata": {
    "tags": []
   },
   "outputs": [],
   "source": [
    "# create the test and train split\n",
    "y = data.Strength\n",
    "X = data.drop('Strength',axis=1)\n",
    "X_train, X_test, y_train, y_test = train_test_split(X,y,test_size=0.3, random_state= 42)"
   ]
  },
  {
   "cell_type": "code",
   "execution_count": null,
   "id": "9d23919a-2e16-4495-80ec-2a2b29d40edb",
   "metadata": {
    "tags": []
   },
   "outputs": [],
   "source": [
    "# nn takes in arrays, so convert to numpy arrays\n",
    "X_train = np.asarray(X_train)\n",
    "X_test = np.asarray(X_test)\n",
    "y_train = np.asarray(y_train)\n",
    "y_test = np.asarray(y_test)\n",
    "\n",
    "n_cols = 8"
   ]
  },
  {
   "cell_type": "code",
   "execution_count": null,
   "id": "391001b4-9496-4519-9d33-60300f3db0cf",
   "metadata": {
    "tags": []
   },
   "outputs": [],
   "source": [
    "# build the network structure\n",
    "model = Sequential()\n",
    "model.add(Dense(10, activation = 'relu', input_shape = (n_cols,)))\n",
    "model.add(Dense(1))"
   ]
  },
  {
   "cell_type": "code",
   "execution_count": null,
   "id": "e30d7020-94fb-4b31-bb7f-6e44a0e7c166",
   "metadata": {},
   "outputs": [],
   "source": [
    "# define compile and fit the model\n",
    "model.compile(optimizer = 'adam', loss = 'mean_squared_error')\n",
    "model.fit(X_train, y_train, epochs=50)"
   ]
  },
  {
   "cell_type": "code",
   "execution_count": null,
   "id": "5f710d35-e8c5-468c-b139-ef3f6c441e85",
   "metadata": {},
   "outputs": [],
   "source": [
    "predictions = model.predict(X_test)"
   ]
  },
  {
   "cell_type": "code",
   "execution_count": null,
   "id": "a64c8ea1-fd40-4884-9e54-2f0d4ef689e8",
   "metadata": {
    "tags": []
   },
   "outputs": [],
   "source": [
    "mean_squared_error(y_test, predictions)"
   ]
  },
  {
   "cell_type": "markdown",
   "id": "62410443-85e4-4a97-a20b-5c83bc8fa4c3",
   "metadata": {
    "tags": []
   },
   "source": [
    "Answer to Part A: Printed Above!"
   ]
  },
  {
   "cell_type": "code",
   "execution_count": null,
   "id": "521b387c-f076-47e6-91fb-8d2b96fc727b",
   "metadata": {
    "tags": []
   },
   "outputs": [],
   "source": [
    "############### Part B \n",
    "# run the loop for 50 iterations as requested\n",
    "mse_list = []\n",
    "for i in range(50):\n",
    "    X_train, X_test, y_train, y_test = train_test_split(X,y,test_size=0.3)\n",
    "    model.compile(optimizer = 'adam', loss = 'mean_squared_error')\n",
    "    model.fit(X_train, y_train, epochs=50, verbose=0)\n",
    "    predictions = model.predict(X_test)\n",
    "    temp_mse = mean_squared_error(y_test, predictions)\n",
    "    mse_list.append(temp_mse)"
   ]
  },
  {
   "cell_type": "code",
   "execution_count": null,
   "id": "e76db62b-f743-44a0-aa46-187dbdb1619c",
   "metadata": {
    "tags": []
   },
   "outputs": [],
   "source": [
    "# print out mean and std dev as requested in assignment\n",
    "print(\"Mean is: \" + str(np.mean(mse_list)))\n",
    "print(\"St Dev is: \" + str(np.std(mse_list)))"
   ]
  },
  {
   "cell_type": "markdown",
   "id": "8c28dc0d-2cb7-4a30-b9b5-c4ebbaabf529",
   "metadata": {},
   "source": [
    "Answer to Part B: the MSE is lower than part A. Looping through the iterations helps with this."
   ]
  },
  {
   "cell_type": "code",
   "execution_count": null,
   "id": "5a1a149c-5cb6-42a4-a343-e1c7150c4780",
   "metadata": {
    "tags": []
   },
   "outputs": [],
   "source": [
    "################ Part C\n",
    "scaler = preprocessing.StandardScaler().fit(X_train)\n",
    "X_train = scaler.transform(X_train)"
   ]
  },
  {
   "cell_type": "code",
   "execution_count": null,
   "id": "6bfc8605-ec4d-47a8-a229-cc410c338b2d",
   "metadata": {
    "tags": []
   },
   "outputs": [],
   "source": [
    "X_test = scaler.transform(X_test)"
   ]
  },
  {
   "cell_type": "code",
   "execution_count": null,
   "id": "990046cd-0099-4d12-b2be-3f93f5d79e26",
   "metadata": {
    "tags": []
   },
   "outputs": [],
   "source": [
    "mse_list = []\n",
    "for i in range(50):\n",
    "    X_train, X_test, y_train, y_test = train_test_split(X,y,test_size=0.3)\n",
    "    model.compile(optimizer = 'adam', loss = 'mean_squared_error')\n",
    "    model.fit(X_train, y_train, epochs=50, verbose=0)\n",
    "    predictions = model.predict(X_test)\n",
    "    temp_mse = mean_squared_error(y_test, predictions)\n",
    "    mse_list.append(temp_mse)"
   ]
  },
  {
   "cell_type": "code",
   "execution_count": null,
   "id": "88412bc1-0b46-480d-b8db-877c47b94d51",
   "metadata": {
    "tags": []
   },
   "outputs": [],
   "source": [
    "# print out mean and std dev as requested in assignment\n",
    "print(\"Mean is: \" + str(np.mean(mse_list)))\n",
    "print(\"St Dev is: \" + str(np.std(mse_list)))"
   ]
  },
  {
   "cell_type": "code",
   "execution_count": null,
   "id": "a50340f2-de0c-404c-8ea8-6f5baaa8e720",
   "metadata": {
    "tags": []
   },
   "outputs": [],
   "source": [
    "mse_list = []\n",
    "for i in range(50):\n",
    "    X_train, X_test, y_train, y_test = train_test_split(X,y,test_size=0.3)\n",
    "    model.compile(optimizer = 'adam', loss = 'mean_squared_error')\n",
    "    model.fit(X_train, y_train, epochs=100, verbose=0)\n",
    "    predictions = model.predict(X_test)\n",
    "    temp_mse = mean_squared_error(y_test, predictions)\n",
    "    mse_list.append(temp_mse)"
   ]
  },
  {
   "cell_type": "code",
   "execution_count": null,
   "id": "1651f094-3ae0-4ada-ab14-34d84e180169",
   "metadata": {
    "tags": []
   },
   "outputs": [],
   "source": [
    "# print out mean and std dev as requested in assignment\n",
    "print(\"Mean is: \" + str(np.mean(mse_list)))\n",
    "print(\"St Dev is: \" + str(np.std(mse_list)))"
   ]
  },
  {
   "cell_type": "markdown",
   "id": "61a6fa9c-a15f-4ec6-8f93-0f7c325cb74b",
   "metadata": {},
   "source": [
    "Answer to Part C: the MSE is lower than part B. Normalizing helps the NN fit better to the data."
   ]
  },
  {
   "cell_type": "code",
   "execution_count": null,
   "id": "3913e1b8-cffd-4431-b202-d864641c6593",
   "metadata": {
    "tags": []
   },
   "outputs": [],
   "source": [
    "############# Part D\n",
    "# build the new network structure with with three hidden layers and ReLU\n",
    "model = Sequential()\n",
    "model.add(Dense(10, activation = 'relu', input_shape = (n_cols,)))\n",
    "model.add(Dense(10, activation = 'relu'))\n",
    "model.add(Dense(10, activation = 'relu'))\n",
    "model.add(Dense(1))"
   ]
  },
  {
   "cell_type": "code",
   "execution_count": null,
   "id": "ea1dd045-0954-43fe-bd17-950e3c4c98b6",
   "metadata": {
    "tags": []
   },
   "outputs": [],
   "source": [
    "mse_list = []\n",
    "for i in range(50):\n",
    "    X_train, X_test, y_train, y_test = train_test_split(X,y,test_size=0.3)\n",
    "    model.compile(optimizer = 'adam', loss = 'mean_squared_error')\n",
    "    model.fit(X_train, y_train, epochs=100, verbose=0)\n",
    "    predictions = model.predict(X_test)\n",
    "    temp_mse = mean_squared_error(y_test, predictions)\n",
    "    mse_list.append(temp_mse)"
   ]
  },
  {
   "cell_type": "code",
   "execution_count": null,
   "id": "948eb0b9-903a-4c42-9360-b748e613f839",
   "metadata": {
    "tags": []
   },
   "outputs": [],
   "source": [
    "# print out mean and std dev as requested in assignment\n",
    "print(\"Mean is: \" + str(np.mean(mse_list)))\n",
    "print(\"St Dev is: \" + str(np.std(mse_list)))"
   ]
  },
  {
   "cell_type": "markdown",
   "id": "b7fc5b12-9499-4898-af86-62095e8c1d1b",
   "metadata": {},
   "source": [
    "Answer to Part D: the MSE is lower than part B. Giving the NN more epochs allows it to train better on the data."
   ]
  }
 ],
 "metadata": {
  "kernelspec": {
   "display_name": "Py310",
   "language": "python",
   "name": "py310"
  },
  "language_info": {
   "codemirror_mode": {
    "name": "ipython",
    "version": 3
   },
   "file_extension": ".py",
   "mimetype": "text/x-python",
   "name": "python",
   "nbconvert_exporter": "python",
   "pygments_lexer": "ipython3",
   "version": "3.10.12"
  }
 },
 "nbformat": 4,
 "nbformat_minor": 5
}
